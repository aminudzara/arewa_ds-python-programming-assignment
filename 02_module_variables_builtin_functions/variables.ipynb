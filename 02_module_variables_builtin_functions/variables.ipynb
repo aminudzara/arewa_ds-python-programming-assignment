{
 "cells": [
  {
   "cell_type": "markdown",
   "metadata": {},
   "source": [
    "# Variables and Builtin Functions"
   ]
  },
  {
   "cell_type": "markdown",
   "metadata": {},
   "source": [
    "## Excercise: Level 1"
   ]
  },
  {
   "cell_type": "markdown",
   "metadata": {},
   "source": [
    "3-13. Declare variables"
   ]
  },
  {
   "cell_type": "code",
   "execution_count": 32,
   "metadata": {},
   "outputs": [],
   "source": [
    "first_name = 'Aminu'\n",
    "last_name = 'Dzara'\n",
    "full_name = 'Aminu Dzara'\n",
    "country = 'Nigeria'\n",
    "city = 'Mubi'\n",
    "age = 31\n",
    "year = 2024\n",
    "is_married = False\n",
    "is_true = True\n",
    "is_light_on = True\n",
    "a, b, c = 5, 6.3, [1,'hi'] # multiple variables on a single line"
   ]
  },
  {
   "cell_type": "markdown",
   "metadata": {},
   "source": [
    "## Excercises: Level 2"
   ]
  },
  {
   "cell_type": "markdown",
   "metadata": {},
   "source": [
    "1. Check the data type of all variable"
   ]
  },
  {
   "cell_type": "code",
   "execution_count": 33,
   "metadata": {},
   "outputs": [
    {
     "name": "stdout",
     "output_type": "stream",
     "text": [
      "<class 'str'>\n",
      "<class 'str'>\n",
      "<class 'str'>\n",
      "<class 'str'>\n",
      "<class 'str'>\n",
      "<class 'int'>\n",
      "<class 'int'>\n",
      "<class 'bool'>\n",
      "<class 'bool'>\n",
      "<class 'bool'>\n",
      "<class 'int'>\n",
      "<class 'float'>\n",
      "<class 'list'>\n"
     ]
    }
   ],
   "source": [
    "print(type(first_name))  # str\n",
    "print(type(last_name))   # str\n",
    "print(type(full_name))   # str\n",
    "print(type(country))     # str\n",
    "print(type(city))        # str\n",
    "print(type(age))         # int\n",
    "print(type(year))        # int\n",
    "print(type(is_married))  # bool\n",
    "print(type(is_true))     # bool\n",
    "print(type(is_light_on)) # bool\n",
    "print(type(a))           # int\n",
    "print(type(b))           # float\n",
    "print(type(c))           # list"
   ]
  },
  {
   "cell_type": "markdown",
   "metadata": {},
   "source": [
    "2. Find the length of `first_name`"
   ]
  },
  {
   "cell_type": "code",
   "execution_count": 34,
   "metadata": {},
   "outputs": [
    {
     "name": "stdout",
     "output_type": "stream",
     "text": [
      "First name length: 5\n"
     ]
    }
   ],
   "source": [
    "print('First name length:', len(first_name))"
   ]
  },
  {
   "cell_type": "markdown",
   "metadata": {},
   "source": [
    "1. Compare the length of `first_name` and `last_name`\n"
   ]
  },
  {
   "cell_type": "code",
   "execution_count": 35,
   "metadata": {},
   "outputs": [
    {
     "name": "stdout",
     "output_type": "stream",
     "text": [
      "Length of `first_name` = length `last_name`: True\n"
     ]
    }
   ],
   "source": [
    "print('Length of `first_name` = length `last_name`:', len(first_name) == len(last_name))"
   ]
  },
  {
   "cell_type": "markdown",
   "metadata": {},
   "source": [
    "4 - 11.   Perform arithmetic calculations"
   ]
  },
  {
   "cell_type": "code",
   "execution_count": 36,
   "metadata": {},
   "outputs": [
    {
     "name": "stdout",
     "output_type": "stream",
     "text": [
      "Difference: -1\n",
      "Product: 20\n",
      "Division: 1.25\n",
      "Remainder: 4\n",
      "Exponent: 625\n",
      "Floor: 1\n"
     ]
    }
   ],
   "source": [
    "num_one = 5\n",
    "num_two = 4\n",
    "\n",
    "diff = num_two - num_one\n",
    "product = num_two * num_one\n",
    "division = num_one / num_two\n",
    "remainder = num_two % num_one\n",
    "exp = num_one ** num_two\n",
    "floor_division = num_one // num_two\n",
    "\n",
    "print('Difference:', diff)\n",
    "print('Product:', product)\n",
    "print('Division:', division)\n",
    "print('Remainder:', remainder)\n",
    "print('Exponent:', exp)\n",
    "print('Floor:', floor_division)"
   ]
  },
  {
   "cell_type": "markdown",
   "metadata": {},
   "source": [
    "12. Calculate the area and circumference of a circle"
   ]
  },
  {
   "cell_type": "code",
   "execution_count": 37,
   "metadata": {},
   "outputs": [
    {
     "name": "stdout",
     "output_type": "stream",
     "text": [
      "The area of a circle with radius of 30 meters: 2826.0\n",
      "The circumfrence of a circle with radius of 30 meters: 188.4\n",
      "The area of a circle with radius of 30 meters: 2826.0\n"
     ]
    }
   ],
   "source": [
    "# Calculate the area where radius is 30\n",
    "radius = 30\n",
    "area_of_circle = 3.14 * (radius * radius)\n",
    "print(f'The area of a circle with radius of {radius} meters: {area_of_circle}')\n",
    "\n",
    "# calculate the circumfrence\n",
    "circum_of_circle = 2 * 3.14 * radius\n",
    "print(f'The circumfrence of a circle with radius of {radius} meters: {circum_of_circle}')\n",
    "\n",
    "# Take radius as user input and calculate the area\n",
    "radius = int(input('Enter the radius of a circle:'))\n",
    "area_of_circle = 3.14 * (radius * radius)\n",
    "print(f'The area of a circle with radius of {radius} meters: {area_of_circle}')"
   ]
  },
  {
   "cell_type": "markdown",
   "metadata": {},
   "source": [
    "13. Use the built-in input function to get first name, last name, country and age from a user and store the value to their corresponding variable names"
   ]
  },
  {
   "cell_type": "code",
   "execution_count": 38,
   "metadata": {},
   "outputs": [
    {
     "name": "stdout",
     "output_type": "stream",
     "text": [
      "First name: hdbbd\n",
      "Last name: bheb\n",
      "Country: hbehjbc\n",
      "Age: 12\n"
     ]
    }
   ],
   "source": [
    "first_name = input('Enter your first name:')\n",
    "last_name = input('Enter your last name:')\n",
    "country = input('Enter your country:')\n",
    "age = input(\"Enter your age:\")\n",
    "\n",
    "print('First name:', first_name)\n",
    "print('Last name:', last_name)\n",
    "print('Country:', country)\n",
    "print('Age:', age)"
   ]
  },
  {
   "cell_type": "markdown",
   "metadata": {},
   "source": [
    "14. Check for the Python reserved words or keywords"
   ]
  },
  {
   "cell_type": "code",
   "execution_count": 39,
   "metadata": {},
   "outputs": [
    {
     "name": "stdout",
     "output_type": "stream",
     "text": [
      "\n",
      "Here is a list of the Python keywords.  Enter any keyword to get more help.\n",
      "\n",
      "False               class               from                or\n",
      "None                continue            global              pass\n",
      "True                def                 if                  raise\n",
      "and                 del                 import              return\n",
      "as                  elif                in                  try\n",
      "assert              else                is                  while\n",
      "async               except              lambda              with\n",
      "await               finally             nonlocal            yield\n",
      "break               for                 not                 \n",
      "\n",
      "None\n"
     ]
    }
   ],
   "source": [
    "print(help('keywords'))"
   ]
  }
 ],
 "metadata": {
  "kernelspec": {
   "display_name": "arewads",
   "language": "python",
   "name": "python3"
  },
  "language_info": {
   "codemirror_mode": {
    "name": "ipython",
    "version": 3
   },
   "file_extension": ".py",
   "mimetype": "text/x-python",
   "name": "python",
   "nbconvert_exporter": "python",
   "pygments_lexer": "ipython3",
   "version": "3.10.15"
  }
 },
 "nbformat": 4,
 "nbformat_minor": 2
}
