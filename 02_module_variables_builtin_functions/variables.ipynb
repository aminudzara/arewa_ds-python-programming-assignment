{
 "cells": [
  {
   "cell_type": "markdown",
   "metadata": {},
   "source": [
    "# Variables and Builtin Functions"
   ]
  },
  {
   "cell_type": "markdown",
   "metadata": {},
   "source": [
    "## Excercise: Level 1"
   ]
  },
  {
   "cell_type": "markdown",
   "metadata": {},
   "source": [
    "Tasks 3-13: Declare variables"
   ]
  },
  {
   "cell_type": "code",
   "execution_count": null,
   "metadata": {},
   "outputs": [],
   "source": [
    "first_name = 'Aminu'       # Task 3\n",
    "last_name = 'Dzara'        # Task 4\n",
    "full_name = 'Aminu Dzara'  # Task 5\n",
    "country = 'Nigeria'        # Task 6\n",
    "city = 'Mubi'              # Task 7\n",
    "age = 31                   # Task 8\n",
    "year = 2024                # Task 9\n",
    "is_married = False         # Task 10\n",
    "is_true = True             # Task 11\n",
    "is_light_on = True         # Task 12\n",
    "a, b, c = 5, 6.3, [1,'hi'] # Task 13"
   ]
  },
  {
   "cell_type": "markdown",
   "metadata": {},
   "source": [
    "## Excercises: Level 2"
   ]
  },
  {
   "cell_type": "markdown",
   "metadata": {},
   "source": [
    "   Task 1: Check the data type of all variable"
   ]
  },
  {
   "cell_type": "code",
   "execution_count": null,
   "metadata": {},
   "outputs": [],
   "source": [
    "print(type(first_name))  # str\n",
    "print(type(last_name))   # str\n",
    "print(type(full_name))   # str\n",
    "print(type(country))     # str\n",
    "print(type(city))        # str\n",
    "print(type(age))         # int\n",
    "print(type(year))        # int\n",
    "print(type(is_married))  # bool\n",
    "print(type(is_true))     # bool\n",
    "print(type(is_light_on)) # bool\n",
    "print(type(a))           # int\n",
    "print(type(b))           # float\n",
    "print(type(c))           # list"
   ]
  },
  {
   "cell_type": "markdown",
   "metadata": {},
   "source": [
    "Task 2: Find the length of `first_name`"
   ]
  },
  {
   "cell_type": "code",
   "execution_count": null,
   "metadata": {},
   "outputs": [],
   "source": [
    "print('First name length:', len(first_name))"
   ]
  },
  {
   "cell_type": "markdown",
   "metadata": {},
   "source": [
    "Task 3: Compare the length of `first_name` and `last_name`\n"
   ]
  },
  {
   "cell_type": "code",
   "execution_count": null,
   "metadata": {},
   "outputs": [],
   "source": [
    "print('Length of `first_name` = length `last_name`:', len(first_name) == len(last_name))"
   ]
  },
  {
   "cell_type": "markdown",
   "metadata": {},
   "source": [
    "Task 4-11: Arithmetic operations"
   ]
  },
  {
   "cell_type": "code",
   "execution_count": null,
   "metadata": {},
   "outputs": [],
   "source": [
    "num_one = 5                            # Task 4\n",
    "num_two = 4                            # Task 5\n",
    "\n",
    "diff = num_two - num_one               # Task 6\n",
    "product = num_two * num_one            # Task 7\n",
    "division = num_one / num_two           # Task 8\n",
    "remainder = num_two % num_one          # Task 9\n",
    "exp = num_one ** num_two               # Task 10\n",
    "floor_division = num_one // num_two    # Task 11\n",
    "\n",
    "print('Difference:', diff)\n",
    "print('Product:', product)\n",
    "print('Division:', division)\n",
    "print('Remainder:', remainder)\n",
    "print('Exponent:', exp)\n",
    "print('Floor:', floor_division)"
   ]
  },
  {
   "cell_type": "markdown",
   "metadata": {},
   "source": [
    "Task 12: Calculate the area and circumference of a circle"
   ]
  },
  {
   "cell_type": "code",
   "execution_count": null,
   "metadata": {},
   "outputs": [],
   "source": [
    "# Where radius is 30\n",
    "radius = 30\n",
    "area_of_circle = 3.14 * (radius * radius)\n",
    "print(f'The area of a circle with radius of {radius} meters: {area_of_circle}')\n",
    "\n",
    "# calculate the circumfrence\n",
    "circum_of_circle = 2 * 3.14 * radius\n",
    "print(f'The circumfrence of a circle with radius of {radius} meters: {circum_of_circle}')\n",
    "\n",
    "# Take radius as user input and calculate the area\n",
    "radius = int(input('Enter the radius of a circle:'))\n",
    "area_of_circle = 3.14 * (radius * radius)\n",
    "print(f'The area of a circle with radius of {radius} meters: {area_of_circle}')"
   ]
  },
  {
   "cell_type": "markdown",
   "metadata": {},
   "source": [
    "Task 13: Use the built-in input function to get first name, last name, country and age from a user and store the value to their corresponding variable names"
   ]
  },
  {
   "cell_type": "code",
   "execution_count": null,
   "metadata": {},
   "outputs": [],
   "source": [
    "first_name = input('Enter your first name:')\n",
    "last_name = input('Enter your last name:')\n",
    "country = input('Enter your country:')\n",
    "age = int(input(\"Enter your age:\"))\n",
    "\n",
    "print('First name:', first_name)\n",
    "print('Last name:', last_name)\n",
    "print('Country:', country)\n",
    "print('Age:', age)"
   ]
  },
  {
   "cell_type": "markdown",
   "metadata": {},
   "source": [
    "Task 14: Check for the Python reserved words or keywords"
   ]
  },
  {
   "cell_type": "code",
   "execution_count": null,
   "metadata": {},
   "outputs": [],
   "source": [
    "print(help('keywords'))"
   ]
  }
 ],
 "metadata": {
  "kernelspec": {
   "display_name": "arewads",
   "language": "python",
   "name": "python3"
  },
  "language_info": {
   "codemirror_mode": {
    "name": "ipython",
    "version": 3
   },
   "file_extension": ".py",
   "mimetype": "text/x-python",
   "name": "python",
   "nbconvert_exporter": "python",
   "pygments_lexer": "ipython3",
   "version": "3.10.15"
  }
 },
 "nbformat": 4,
 "nbformat_minor": 2
}
