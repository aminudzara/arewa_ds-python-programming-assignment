{
 "cells": [
  {
   "cell_type": "markdown",
   "metadata": {},
   "source": [
    "# Operators"
   ]
  },
  {
   "cell_type": "markdown",
   "metadata": {},
   "source": [
    "Task 1: Declare your age as integer variable"
   ]
  },
  {
   "cell_type": "code",
   "execution_count": null,
   "metadata": {},
   "outputs": [],
   "source": [
    "age = 31\n",
    "type(age)"
   ]
  },
  {
   "cell_type": "markdown",
   "metadata": {},
   "source": [
    "Task 2: Declare your height as float variable"
   ]
  },
  {
   "cell_type": "code",
   "execution_count": null,
   "metadata": {},
   "outputs": [],
   "source": [
    "height = 1.67\n",
    "type(height)"
   ]
  },
  {
   "cell_type": "markdown",
   "metadata": {},
   "source": [
    "Task 3: Declare a variable that store a complex number"
   ]
  },
  {
   "cell_type": "code",
   "execution_count": null,
   "metadata": {},
   "outputs": [],
   "source": [
    "compl = 1 + 1j\n",
    "type(compl)"
   ]
  },
  {
   "cell_type": "markdown",
   "metadata": {},
   "source": [
    "Task 4:  Write a script that prompts the user to enter base and height of the triangle and calculate an area of this triangle (area = 0.5 x b x h)."
   ]
  },
  {
   "cell_type": "markdown",
   "metadata": {},
   "source": [
    "```py\n",
    "Enter base: 20\n",
    "Enter height: 10\n",
    "The area of the triangle is 100\n",
    "```"
   ]
  },
  {
   "cell_type": "code",
   "execution_count": null,
   "metadata": {},
   "outputs": [],
   "source": [
    "base = int(input('Enter base:'))\n",
    "height = int(input('Enter height:'))\n",
    "\n",
    "area_of_triangle = 0.5 * base * height\n",
    "\n",
    "print('The area of the triangle is', int(area_of_triangle))"
   ]
  },
  {
   "cell_type": "markdown",
   "metadata": {},
   "source": [
    "Task 5: Write a script that prompts the user to enter side a, side b, and side c of the triangle. Calculate the perimeter of the triangle (perimeter = a + b + c)."
   ]
  },
  {
   "cell_type": "markdown",
   "metadata": {},
   "source": [
    "```py\n",
    "Enter side a: 5\n",
    "Enter side b: 4\n",
    "Enter side c: 3\n",
    "The perimeter of the triangle is 12\n",
    "```"
   ]
  },
  {
   "cell_type": "code",
   "execution_count": null,
   "metadata": {},
   "outputs": [],
   "source": [
    "side_a = int(input('Enter side a:'))\n",
    "side_b = int(input('Enter side b:'))\n",
    "side_c = int(input('Enter side c:'))\n",
    "\n",
    "perimeter = side_a + side_b + side_c\n",
    "\n",
    "print('The perimeter of the triangle is:', perimeter)"
   ]
  },
  {
   "cell_type": "markdown",
   "metadata": {},
   "source": [
    "Task 6: Get length and width of a rectangle using prompt. Calculate its area (area = length x width) and perimeter (perimeter = 2 x (length + width))"
   ]
  },
  {
   "cell_type": "code",
   "execution_count": null,
   "metadata": {},
   "outputs": [],
   "source": [
    "length = int(input('Enter length:'))\n",
    "width = int(input('Enter width:'))\n",
    "\n",
    "area_of_rectangle = length * width\n",
    "perimeter_of_rectangle = 2 * (length + width)\n",
    "\n",
    "print('Length:', length)\n",
    "print('Width:', width)\n",
    "print('The area of the rectangle is', area_of_rectangle)\n",
    "print('The perimeter of the rectanhle is', perimeter_of_rectangle)"
   ]
  },
  {
   "cell_type": "markdown",
   "metadata": {},
   "source": [
    "Task 7: Get radius of a circle using prompt. Calculate the area (area = pi x r x r) and circumference (c = 2 x pi x r) where pi = 3.14."
   ]
  },
  {
   "cell_type": "code",
   "execution_count": null,
   "metadata": {},
   "outputs": [],
   "source": [
    "radius = int(input('Enter radius:'))\n",
    "\n",
    "area_of_circle = 3.14 * radius ** 2\n",
    "circumference = 2 * 3.14 * radius\n",
    "\n",
    "print('Radius:', radius)\n",
    "print('The area of the circle is', area_of_circle)\n",
    "print('The circumference of the circle is', circumference)"
   ]
  },
  {
   "cell_type": "markdown",
   "metadata": {},
   "source": [
    "Task 8: Calculate the slope, x-intercept and y-intercept of y = 2x -2"
   ]
  },
  {
   "cell_type": "code",
   "execution_count": null,
   "metadata": {},
   "outputs": [],
   "source": [
    "slope = 2\n",
    "y_intercept = -2\n",
    "\n",
    "x_intercept = y_intercept / slope\n",
    "\n",
    "print('Slope:', slope)\n",
    "print('X-intercept:', x_intercept)\n",
    "print('Y-intercept:', y_intercept)"
   ]
  },
  {
   "cell_type": "markdown",
   "metadata": {},
   "source": [
    "Task 9: Slope is (m = y2-y1/x2-x1). Find the slope and Euclidean distance between point (2, 2) and point (6,10)"
   ]
  },
  {
   "cell_type": "code",
   "execution_count": null,
   "metadata": {},
   "outputs": [],
   "source": [
    "import math\n",
    "\n",
    "x1_value = 2\n",
    "y1_value = 2\n",
    "x2_value = 6\n",
    "y2_value = 10\n",
    "\n",
    "slope_2 = (y2_value - y1_value) / (x2_value - x1_value)\n",
    "distance = math.sqrt((x2_value - x1_value)**2 + (y2_value - y1_value)**2)\n",
    "\n",
    "print('The slope is:', slope_2)\n",
    "print('The distance between the two points is:', distance)"
   ]
  },
  {
   "cell_type": "markdown",
   "metadata": {},
   "source": [
    "Task 10: Compare the slopes in tasks 8 and 9."
   ]
  },
  {
   "cell_type": "code",
   "execution_count": null,
   "metadata": {},
   "outputs": [],
   "source": [
    "result = slope == slope_2\n",
    "\n",
    "print('Task 9 slope = Task 10 slope:', result)"
   ]
  },
  {
   "cell_type": "markdown",
   "metadata": {},
   "source": [
    "Task 11: Calculate the value of y (y = x^2 + 6x + 9). Try to use different x values and figure out at what x value y is going to be 0."
   ]
  },
  {
   "cell_type": "code",
   "execution_count": null,
   "metadata": {},
   "outputs": [],
   "source": [
    "x_value = -3\n",
    "\n",
    "y_value = x_value**2 + 6*x_value + 9\n",
    "\n",
    "print('The values of y is', y_value)"
   ]
  },
  {
   "cell_type": "markdown",
   "metadata": {},
   "source": [
    "Task 12: Find the length of 'python' and 'dragon' and make a falsy comparison statement."
   ]
  },
  {
   "cell_type": "code",
   "execution_count": null,
   "metadata": {},
   "outputs": [],
   "source": [
    "result = len('python') != len('dragon')\n",
    "\n",
    "print('\"python\" length is not equal to \"dragon\" length:', result)"
   ]
  },
  {
   "cell_type": "markdown",
   "metadata": {},
   "source": [
    "Task 13: Use _and_ operator to check if 'on' is found in both 'python' and 'dragon'"
   ]
  },
  {
   "cell_type": "code",
   "execution_count": null,
   "metadata": {},
   "outputs": [],
   "source": [
    "result = 'on' in 'python' and 'on' in 'dragon'\n",
    "\n",
    "print('There is \"on\" in both \"python\" and \"dragon\" :', result)"
   ]
  },
  {
   "cell_type": "markdown",
   "metadata": {},
   "source": [
    "Task 14: _I hope this course is not full of jargon_. Use _in_ operator to check if _jargon_ is in the sentence."
   ]
  },
  {
   "cell_type": "code",
   "execution_count": null,
   "metadata": {},
   "outputs": [],
   "source": [
    "sentence = 'I hope this course is not full of jargon'\n",
    "\n",
    "result = 'jargon' in sentence\n",
    "\n",
    "print('The word \"jargon\" is in the sentence:', result)"
   ]
  },
  {
   "cell_type": "markdown",
   "metadata": {},
   "source": [
    "Task 15: There is no 'on' in both dragon and python"
   ]
  },
  {
   "cell_type": "code",
   "execution_count": null,
   "metadata": {},
   "outputs": [],
   "source": [
    "result = 'on' not in 'python' and 'on' in 'dragon'\n",
    "\n",
    "print('There is no \"on\" in both \"python\" and \"dragon\" :', result)"
   ]
  },
  {
   "cell_type": "markdown",
   "metadata": {},
   "source": [
    "Task 16: Find the length of the text _python_ and convert the value to float and convert it to string"
   ]
  },
  {
   "cell_type": "code",
   "execution_count": null,
   "metadata": {},
   "outputs": [],
   "source": [
    "text_length = len('python')\n",
    "print(type(text_length))\n",
    "\n",
    "text_length = float(text_length)\n",
    "print(type(text_length))\n",
    "\n",
    "text_length = str(text_length)\n",
    "print(type(text_length))"
   ]
  },
  {
   "cell_type": "markdown",
   "metadata": {},
   "source": [
    "Task 17: Even numbers are divisible by 2 and the remainder is zero. How do you check if a number is even or not using python?"
   ]
  },
  {
   "cell_type": "code",
   "execution_count": null,
   "metadata": {},
   "outputs": [],
   "source": [
    "number = 5\n",
    "\n",
    "result = number % 2 == 0\n",
    "\n",
    "print('The number is divisible by 2:', result)"
   ]
  },
  {
   "cell_type": "markdown",
   "metadata": {},
   "source": [
    "Task 18: Check if the floor division of 7 by 3 is equal to the int converted value of 2.7."
   ]
  },
  {
   "cell_type": "code",
   "execution_count": null,
   "metadata": {},
   "outputs": [],
   "source": [
    "result = 7 // 3 == int(2.7)\n",
    "\n",
    "print(result)"
   ]
  },
  {
   "cell_type": "markdown",
   "metadata": {},
   "source": [
    "Task 19: Check if type of '10' is equal to type of 10"
   ]
  },
  {
   "cell_type": "code",
   "execution_count": null,
   "metadata": {},
   "outputs": [],
   "source": [
    "print(type('10') == type(10))"
   ]
  },
  {
   "cell_type": "markdown",
   "metadata": {},
   "source": [
    "Task 20: Check if int('9.8') is equal to 10"
   ]
  },
  {
   "cell_type": "code",
   "execution_count": null,
   "metadata": {},
   "outputs": [],
   "source": [
    "result = int(float('9.8')) == 10\n",
    "\n",
    "print(result)"
   ]
  },
  {
   "cell_type": "markdown",
   "metadata": {},
   "source": [
    "Task 21: Writ a script that prompts the user to enter hours and rate per hour. Calculate pay of the person?"
   ]
  },
  {
   "cell_type": "markdown",
   "metadata": {},
   "source": [
    "```python\n",
    "Enter hours: 40\n",
    "Enter rate per hour: 28\n",
    "Your weekly earning is 1120\n",
    "```"
   ]
  },
  {
   "cell_type": "code",
   "execution_count": null,
   "metadata": {},
   "outputs": [],
   "source": [
    "hours = int(input('Enter hours:'))\n",
    "rate_per_hour = int(input('Enter rate per hour'))\n",
    "\n",
    "pay = hours * rate_per_hour\n",
    "\n",
    "print('The pay is', pay )"
   ]
  },
  {
   "cell_type": "markdown",
   "metadata": {},
   "source": [
    "Task 22: Write a script that prompts the user to enter number of years. Calculate the number of seconds a person can live. Assume a person can live hundred years"
   ]
  },
  {
   "cell_type": "markdown",
   "metadata": {},
   "source": [
    "```py\n",
    "    Enter number of years you have lived: 100\n",
    "    You have lived for 3153600000 seconds.\n",
    "```"
   ]
  },
  {
   "cell_type": "code",
   "execution_count": null,
   "metadata": {},
   "outputs": [],
   "source": [
    "number_of_years = int(input('Enter number of years you have lived:'))\n",
    "\n",
    "seconds_lived = number_of_years * 31536000\n",
    "\n",
    "print('You have lived for ', seconds_lived, 'seconds.')"
   ]
  },
  {
   "cell_type": "markdown",
   "metadata": {},
   "source": [
    "Task 23: Write a Python script that displays the following table"
   ]
  },
  {
   "cell_type": "markdown",
   "metadata": {},
   "source": [
    "```python\n",
    "1 1 1 1 1\n",
    "2 1 2 4 8\n",
    "3 1 3 9 27\n",
    "4 1 4 16 64\n",
    "5 1 5 25 125\n",
    "```"
   ]
  },
  {
   "cell_type": "code",
   "execution_count": null,
   "metadata": {},
   "outputs": [],
   "source": [
    "print(1,1,1,1,1)\n",
    "print(2,1,2,4,8)\n",
    "print(3,1,3,9,27)\n",
    "print(4,1,4,16,64)\n",
    "print(5,1,5,25,125)"
   ]
  }
 ],
 "metadata": {
  "kernelspec": {
   "display_name": "arewads",
   "language": "python",
   "name": "python3"
  },
  "language_info": {
   "codemirror_mode": {
    "name": "ipython",
    "version": 3
   },
   "file_extension": ".py",
   "mimetype": "text/x-python",
   "name": "python",
   "nbconvert_exporter": "python",
   "pygments_lexer": "ipython3",
   "version": "3.10.15"
  }
 },
 "nbformat": 4,
 "nbformat_minor": 2
}
