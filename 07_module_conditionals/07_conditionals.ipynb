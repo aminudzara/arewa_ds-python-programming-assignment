{
 "cells": [
  {
   "cell_type": "markdown",
   "metadata": {},
   "source": [
    "# Conditionals"
   ]
  },
  {
   "cell_type": "markdown",
   "metadata": {},
   "source": [
    "### Exercises: Level 1"
   ]
  },
  {
   "cell_type": "markdown",
   "metadata": {},
   "source": [
    "Task 1: Get user input using input(“Enter your age: ”). If user is 18 or older, give feedback: You are old enough to drive. If below 18 give feedback to wait for the missing amount of years."
   ]
  },
  {
   "cell_type": "code",
   "execution_count": 21,
   "metadata": {},
   "outputs": [
    {
     "name": "stdout",
     "output_type": "stream",
     "text": [
      "Enter your age: 17\n",
      "You need 1 more year to learn to drive.\n"
     ]
    }
   ],
   "source": [
    "age = int(input('Enter your age:'))\n",
    "print(f\"Enter your age: {age}\")\n",
    "if age >= 18:\n",
    "    print(\"You are old enough to drive.\")\n",
    "else:\n",
    "    remaining_years = 18 - age\n",
    "    if remaining_years == 1:\n",
    "        print(\"You need 1 more year to learn to drive.\")\n",
    "    else:\n",
    "        print(f\"You need {remaining_years} more year to learn to drive.\")\n"
   ]
  },
  {
   "cell_type": "markdown",
   "metadata": {},
   "source": [
    "Compare the values of my_age and your_age using if … else. Who is older (me or you)? Use input(“Enter your age: ”) to get the age as input. You can use a nested condition to print 'year' for 1 year difference in age, 'years' for bigger differences, and a custom text if my_age = your_age."
   ]
  },
  {
   "cell_type": "code",
   "execution_count": 27,
   "metadata": {},
   "outputs": [
    {
     "name": "stdout",
     "output_type": "stream",
     "text": [
      "Enter your age: 29\n",
      "I'm 2 years older than you.\n"
     ]
    }
   ],
   "source": [
    "my_age = 31\n",
    "your_age = int(input(\"Enter your age:\"))\n",
    "print(f\"Enter your age: {your_age}\")\n",
    "if my_age > your_age:\n",
    "    if my_age - your_age == 1:\n",
    "        print(\"I'm 1 year older than you.\")\n",
    "    else:\n",
    "        print(f\"I'm {my_age - your_age} years older than you.\")\n",
    "elif my_age < your_age:\n",
    "    if your_age - my_age == 1:\n",
    "        print(\"You are 1 year older than me.\")\n",
    "    else:\n",
    "        print(f\"You are {your_age - my_age} years older than me.\")\n",
    "else:\n",
    "    print(\"We are the same age.\")\n"
   ]
  },
  {
   "cell_type": "markdown",
   "metadata": {},
   "source": [
    "Task 3: Get two numbers from the user using input prompt. If a is greater than b return a is greater than b, if a is less b return a is smaller than b, else a is equal to b."
   ]
  },
  {
   "cell_type": "code",
   "execution_count": 29,
   "metadata": {},
   "outputs": [
    {
     "name": "stdout",
     "output_type": "stream",
     "text": [
      "Enter number one: 6\n",
      "Enter number one: 3\n",
      "6 is greater than 3\n"
     ]
    }
   ],
   "source": [
    "num_one = int(input(\"Enter number one:\"))\n",
    "num_two = int(input(\"Enter number two:\"))\n",
    "print(f\"Enter number one: {num_one}\")\n",
    "print(f\"Enter number one: {num_two}\")\n",
    "if num_one > num_two:\n",
    "    print(f\"{num_one} is greater than {num_two}\")\n",
    "else:\n",
    "    print(f\"{num_two} is greater than {num_one}\")"
   ]
  },
  {
   "cell_type": "markdown",
   "metadata": {},
   "source": [
    "### Exercises: Level 2"
   ]
  },
  {
   "cell_type": "markdown",
   "metadata": {},
   "source": [
    "Task 1: Write a code which gives grade to students according to their scores:"
   ]
  },
  {
   "cell_type": "markdown",
   "metadata": {},
   "source": [
    "```python\n",
    "80-100, A\n",
    "70-79, B\n",
    "60-69, C\n",
    "50-59, D\n",
    "0-49, F\n",
    "```"
   ]
  },
  {
   "cell_type": "code",
   "execution_count": 36,
   "metadata": {},
   "outputs": [
    {
     "name": "stdout",
     "output_type": "stream",
     "text": [
      "Enter student's score: -4\n",
      "Enter a valid score!\n"
     ]
    }
   ],
   "source": [
    "score = int(input(\"Enter student's score between 0 to 100:\"))\n",
    "print(f\"Enter student's score: {score}\")\n",
    "if score >= 80 and score <= 100:\n",
    "    print(\"The grade is A\")\n",
    "elif score >= 70 and score <= 79:\n",
    "    print(\"The grade is B\")\n",
    "elif score >= 60 and score <= 69:\n",
    "    print(\"The grade is C\")\n",
    "elif score >= 50 and score <= 59:\n",
    "    print(\"The grade is D\")\n",
    "elif score >= 0 and score <= 49:\n",
    "    print(\"The grade is F\")\n",
    "else:\n",
    "    print('Enter a valid score!')"
   ]
  },
  {
   "cell_type": "markdown",
   "metadata": {},
   "source": [
    "Task 2: Check if the season is Autumn, Winter, Spring or Summer. If the user input is: September, October or November, the season is Autumn. December, January or February, the season is Winter. March, April or May, the season is Spring June, July or August, the season is Summer"
   ]
  },
  {
   "cell_type": "code",
   "execution_count": 39,
   "metadata": {},
   "outputs": [
    {
     "name": "stdout",
     "output_type": "stream",
     "text": [
      "Enter month: March\n",
      "The season is Spring\n"
     ]
    }
   ],
   "source": [
    "month = input('Enter month: ').title()\n",
    "print(f'Enter month: {month}')\n",
    "if month in [\"September\", \"October\", \"November\"]:\n",
    "    print(\"The season is Autumn\")\n",
    "elif month in [\"December\", \"January\", \"February\"]:\n",
    "    print(\"The season is Winter\")\n",
    "elif month in [\"March\", \"April\", \"May\"]:\n",
    "    print(\"The season is Spring\")\n",
    "elif month in [\"June\", \"July\", \"August\"]:\n",
    "    print(\"The season is Summer\")\n",
    "else:\n",
    "    print(\"Enter a valid month!\")"
   ]
  },
  {
   "cell_type": "markdown",
   "metadata": {},
   "source": [
    "Task 3: The following list contains some fruits:"
   ]
  },
  {
   "cell_type": "markdown",
   "metadata": {},
   "source": [
    "```python\n",
    "fruits = ['banana', 'orange', 'mango', 'lemon']\n",
    "```"
   ]
  },
  {
   "cell_type": "markdown",
   "metadata": {},
   "source": [
    "If a fruit doesn't exist in the list add the fruit to the list and print the modified list. If the fruit exists print('That fruit already exist in the list')"
   ]
  },
  {
   "cell_type": "code",
   "execution_count": 41,
   "metadata": {},
   "outputs": [
    {
     "name": "stdout",
     "output_type": "stream",
     "text": [
      "['banana', 'orange', 'mango', 'lemon', 'avocado']\n"
     ]
    }
   ],
   "source": [
    "fruits = ['banana', 'orange', 'mango', 'lemon']\n",
    "fruit = input('Enter a fruit to add to the list:').lower()\n",
    "if fruit not in fruits:\n",
    "    fruits.append(fruit)\n",
    "    print(fruits)\n",
    "else:\n",
    "    print(\"That fruit already exist in the list!\")"
   ]
  }
 ],
 "metadata": {
  "kernelspec": {
   "display_name": "arewads",
   "language": "python",
   "name": "python3"
  },
  "language_info": {
   "codemirror_mode": {
    "name": "ipython",
    "version": 3
   },
   "file_extension": ".py",
   "mimetype": "text/x-python",
   "name": "python",
   "nbconvert_exporter": "python",
   "pygments_lexer": "ipython3",
   "version": "3.10.15"
  }
 },
 "nbformat": 4,
 "nbformat_minor": 2
}
