{
 "cells": [
  {
   "cell_type": "markdown",
   "metadata": {},
   "source": [
    "# Conditionals"
   ]
  },
  {
   "cell_type": "markdown",
   "metadata": {},
   "source": [
    "### Exercises: Level 1"
   ]
  },
  {
   "cell_type": "markdown",
   "metadata": {},
   "source": [
    "Task 1: Get user input using input(“Enter your age: ”). If user is 18 or older, give feedback: You are old enough to drive. If below 18 give feedback to wait for the missing amount of years."
   ]
  },
  {
   "cell_type": "code",
   "execution_count": null,
   "metadata": {},
   "outputs": [],
   "source": [
    "age = int(input('Enter your age:'))\n",
    "print(f\"Enter your age: {age}\")\n",
    "if age >= 18:\n",
    "    print(\"You are old enough to drive.\")\n",
    "else:\n",
    "    remaining_years = 18 - age\n",
    "    if remaining_years == 1:\n",
    "        print(\"You need 1 more year to learn to drive.\")\n",
    "    else:\n",
    "        print(f\"You need {remaining_years} more year to learn to drive.\")\n"
   ]
  },
  {
   "cell_type": "markdown",
   "metadata": {},
   "source": [
    "Compare the values of my_age and your_age using if … else. Who is older (me or you)? Use input(“Enter your age: ”) to get the age as input. You can use a nested condition to print 'year' for 1 year difference in age, 'years' for bigger differences, and a custom text if my_age = your_age."
   ]
  },
  {
   "cell_type": "code",
   "execution_count": null,
   "metadata": {},
   "outputs": [],
   "source": [
    "my_age = 31\n",
    "your_age = int(input(\"Enter your age:\"))\n",
    "print(f\"Enter your age: {your_age}\")\n",
    "if my_age > your_age:\n",
    "    if my_age - your_age == 1:\n",
    "        print(\"I'm 1 year older than you.\")\n",
    "    else:\n",
    "        print(f\"I'm {my_age - your_age} years older than you.\")\n",
    "elif my_age < your_age:\n",
    "    if your_age - my_age == 1:\n",
    "        print(\"You are 1 year older than me.\")\n",
    "    else:\n",
    "        print(f\"You are {your_age - my_age} years older than me.\")\n",
    "else:\n",
    "    print(\"We are the same age.\")\n"
   ]
  },
  {
   "cell_type": "markdown",
   "metadata": {},
   "source": [
    "Task 3: Get two numbers from the user using input prompt. If a is greater than b return a is greater than b, if a is less b return a is smaller than b, else a is equal to b."
   ]
  },
  {
   "cell_type": "code",
   "execution_count": null,
   "metadata": {},
   "outputs": [],
   "source": [
    "num_one = int(input(\"Enter number one:\"))\n",
    "num_two = int(input(\"Enter number two:\"))\n",
    "print(f\"Enter number one: {num_one}\")\n",
    "print(f\"Enter number one: {num_two}\")\n",
    "if num_one > num_two:\n",
    "    print(f\"{num_one} is greater than {num_two}\")\n",
    "else:\n",
    "    print(f\"{num_two} is greater than {num_one}\")"
   ]
  },
  {
   "cell_type": "markdown",
   "metadata": {},
   "source": [
    "### Exercises: Level 2"
   ]
  },
  {
   "cell_type": "markdown",
   "metadata": {},
   "source": [
    "Task 1: Write a code which gives grade to students according to their scores:"
   ]
  },
  {
   "cell_type": "markdown",
   "metadata": {},
   "source": [
    "```python\n",
    "80-100, A\n",
    "70-79, B\n",
    "60-69, C\n",
    "50-59, D\n",
    "0-49, F\n",
    "```"
   ]
  },
  {
   "cell_type": "code",
   "execution_count": null,
   "metadata": {},
   "outputs": [],
   "source": [
    "score = int(input(\"Enter student's score between 0 to 100:\"))\n",
    "print(f\"Enter student's score: {score}\")\n",
    "if score >= 80 and score <= 100:\n",
    "    print(\"The grade is A\")\n",
    "elif score >= 70 and score <= 79:\n",
    "    print(\"The grade is B\")\n",
    "elif score >= 60 and score <= 69:\n",
    "    print(\"The grade is C\")\n",
    "elif score >= 50 and score <= 59:\n",
    "    print(\"The grade is D\")\n",
    "elif score >= 0 and score <= 49:\n",
    "    print(\"The grade is F\")\n",
    "else:\n",
    "    print('Enter a valid score!')"
   ]
  },
  {
   "cell_type": "markdown",
   "metadata": {},
   "source": [
    "Task 2: Check if the season is Autumn, Winter, Spring or Summer. If the user input is: September, October or November, the season is Autumn. December, January or February, the season is Winter. March, April or May, the season is Spring June, July or August, the season is Summer"
   ]
  },
  {
   "cell_type": "code",
   "execution_count": null,
   "metadata": {},
   "outputs": [],
   "source": [
    "month = input('Enter month: ').title()\n",
    "print(f'Enter month: {month}')\n",
    "if month in [\"September\", \"October\", \"November\"]:\n",
    "    print(\"The season is Autumn\")\n",
    "elif month in [\"December\", \"January\", \"February\"]:\n",
    "    print(\"The season is Winter\")\n",
    "elif month in [\"March\", \"April\", \"May\"]:\n",
    "    print(\"The season is Spring\")\n",
    "elif month in [\"June\", \"July\", \"August\"]:\n",
    "    print(\"The season is Summer\")\n",
    "else:\n",
    "    print(\"Enter a valid month!\")"
   ]
  },
  {
   "cell_type": "markdown",
   "metadata": {},
   "source": [
    "Task 3: The following list contains some fruits:"
   ]
  },
  {
   "cell_type": "markdown",
   "metadata": {},
   "source": [
    "```python\n",
    "fruits = ['banana', 'orange', 'mango', 'lemon']\n",
    "```"
   ]
  },
  {
   "cell_type": "markdown",
   "metadata": {},
   "source": [
    "If a fruit doesn't exist in the list add the fruit to the list and print the modified list. If the fruit exists print('That fruit already exist in the list')"
   ]
  },
  {
   "cell_type": "code",
   "execution_count": null,
   "metadata": {},
   "outputs": [],
   "source": [
    "fruits = ['banana', 'orange', 'mango', 'lemon']\n",
    "fruit = input('Enter a fruit to add to the list:').lower()\n",
    "if fruit not in fruits:\n",
    "    fruits.append(fruit)\n",
    "    print(fruits)\n",
    "else:\n",
    "    print(\"That fruit already exist in the list!\")"
   ]
  },
  {
   "cell_type": "markdown",
   "metadata": {},
   "source": [
    "### Exercises: Level 3"
   ]
  },
  {
   "cell_type": "markdown",
   "metadata": {},
   "source": [
    "Task 1: Here we have a person dictionary. Feel free to modify it!"
   ]
  },
  {
   "cell_type": "code",
   "execution_count": 33,
   "metadata": {},
   "outputs": [],
   "source": [
    "# Deaclare the person dictionary\n",
    "person={\n",
    "    'first_name': 'Ahmed',\n",
    "    'last_name': 'Abubakar',\n",
    "    'age': 250,\n",
    "    'country': 'Nigeria',\n",
    "    'is_marred': True,\n",
    "    'skills': ['JavaScript', 'React', 'Node', 'MongoDB', 'Python'],\n",
    "    'address': {\n",
    "        'street': 'Space street',\n",
    "        'zipcode': '02210'\n",
    "    }\n",
    "}"
   ]
  },
  {
   "cell_type": "markdown",
   "metadata": {},
   "source": [
    "* Check if the person dictionary has skills key, if so print out the middle skill in the skills list."
   ]
  },
  {
   "cell_type": "code",
   "execution_count": null,
   "metadata": {},
   "outputs": [],
   "source": [
    "if 'skills' in person:\n",
    "    middle_skill_index = len(person['skills'])//2\n",
    "    middle_skill = person['skills'][middle_skill_index]\n",
    "    print(f\"The middle skill is: {middle_skill}\")"
   ]
  },
  {
   "cell_type": "markdown",
   "metadata": {},
   "source": [
    "* Check if the person dictionary has skills key, if so check if the person has 'Python' skill and print out the result."
   ]
  },
  {
   "cell_type": "code",
   "execution_count": null,
   "metadata": {},
   "outputs": [],
   "source": [
    "if 'skills' in person and 'Python' in person['skills']:\n",
    "    print(\"Person has Python skill!\")\n",
    "else:\n",
    "    print(\"Person does not have Python skill!\")"
   ]
  },
  {
   "cell_type": "markdown",
   "metadata": {},
   "source": [
    "* If a person skills has only JavaScript and React, print('He is a front end developer'), if the person skills has Node, Python, MongoDB, print('He is a backend developer'), if the person skills has React, Node and MongoDB, Print('He is a fullstack developer'), else print('unknown title') - for more accurate results more conditions can be nested!"
   ]
  },
  {
   "cell_type": "code",
   "execution_count": null,
   "metadata": {},
   "outputs": [],
   "source": [
    "skills = person['skills']\n",
    "if {'JavaScript', 'React'} == set(skills):\n",
    "    print('He is a front end developer')\n",
    "elif {'Node', 'Python', 'MongoDB'}.issubset(skills):\n",
    "    print('He is a back end developer')\n",
    "elif {'React', 'Node', 'MongoDB'}.issubset(skills):\n",
    "    print('He is a fullstack developer')\n",
    "else:\n",
    "    print('Unknown title')"
   ]
  },
  {
   "cell_type": "markdown",
   "metadata": {},
   "source": [
    "* If the person is married and if he lives in Finland, print the information in the following format:"
   ]
  },
  {
   "cell_type": "markdown",
   "metadata": {},
   "source": [
    "```python\n",
    "    Asabeneh Yetayeh lives in Finland. He is married.\n",
    "```"
   ]
  },
  {
   "cell_type": "code",
   "execution_count": null,
   "metadata": {},
   "outputs": [],
   "source": [
    "if person['is_marred'] == True and person['country'] == 'Finland':\n",
    "    print(f\"{person['first_name'] + ' ' + person['last_name']} lives in Finland. He is married.\")"
   ]
  }
 ],
 "metadata": {
  "kernelspec": {
   "display_name": "arewads",
   "language": "python",
   "name": "python3"
  },
  "language_info": {
   "codemirror_mode": {
    "name": "ipython",
    "version": 3
   },
   "file_extension": ".py",
   "mimetype": "text/x-python",
   "name": "python",
   "nbconvert_exporter": "python",
   "pygments_lexer": "ipython3",
   "version": "3.10.15"
  }
 },
 "nbformat": 4,
 "nbformat_minor": 2
}
